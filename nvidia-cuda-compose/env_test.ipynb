{
 "cells": [
  {
   "cell_type": "markdown",
   "id": "780b42e1-e4b3-410c-9725-b3525f315153",
   "metadata": {},
   "source": [
    "### GPU 테스트"
   ]
  },
  {
   "cell_type": "code",
   "execution_count": 1,
   "id": "9a7af58c-ea19-4a60-9fcd-f7d2be043ff7",
   "metadata": {},
   "outputs": [
    {
     "name": "stdout",
     "output_type": "stream",
     "text": [
      "Mon Dec 20 05:44:38 2021       \n",
      "+-----------------------------------------------------------------------------+\n",
      "| NVIDIA-SMI 460.80       Driver Version: 460.80       CUDA Version: 11.2     |\n",
      "|-------------------------------+----------------------+----------------------+\n",
      "| GPU  Name        Persistence-M| Bus-Id        Disp.A | Volatile Uncorr. ECC |\n",
      "| Fan  Temp  Perf  Pwr:Usage/Cap|         Memory-Usage | GPU-Util  Compute M. |\n",
      "|                               |                      |               MIG M. |\n",
      "|===============================+======================+======================|\n",
      "|   0  GeForce RTX 3080    Off  | 00000000:01:00.0 Off |                  N/A |\n",
      "|  0%   44C    P8    24W / 320W |     17MiB / 10015MiB |      0%      Default |\n",
      "|                               |                      |                  N/A |\n",
      "+-------------------------------+----------------------+----------------------+\n",
      "                                                                               \n",
      "+-----------------------------------------------------------------------------+\n",
      "| Processes:                                                                  |\n",
      "|  GPU   GI   CI        PID   Type   Process name                  GPU Memory |\n",
      "|        ID   ID                                                   Usage      |\n",
      "|=============================================================================|\n",
      "+-----------------------------------------------------------------------------+\n"
     ]
    }
   ],
   "source": [
    "!nvidia-smi"
   ]
  },
  {
   "cell_type": "code",
   "execution_count": 2,
   "id": "94a14729-5087-44d6-be64-6ff667dc8064",
   "metadata": {},
   "outputs": [
    {
     "name": "stdout",
     "output_type": "stream",
     "text": [
      "torch.__version__: 1.7.1+cu110\n",
      "GPU 사용여부: True\n",
      "GPU count: 1\n",
      "GPU name: GeForce RTX 3080\n"
     ]
    }
   ],
   "source": [
    "import torch\n",
    "\n",
    "print(f'torch.__version__: {torch.__version__}')\n",
    "\n",
    "print(f'GPU 사용여부: {torch.cuda.is_available()}')\n",
    "gpu_count = torch.cuda.device_count()\n",
    "print(f'GPU count: {gpu_count}')\n",
    "if gpu_count > 0:\n",
    "    print(f'GPU name: {torch.cuda.get_device_name(0)}')"
   ]
  },
  {
   "cell_type": "markdown",
   "id": "edf28e86-439f-49d6-92ce-44fd128f1550",
   "metadata": {},
   "source": [
    "### Package Test"
   ]
  },
  {
   "cell_type": "code",
   "execution_count": 3,
   "id": "4608921b-1efa-4905-9aed-ccfbc8940d55",
   "metadata": {},
   "outputs": [
    {
     "name": "stdout",
     "output_type": "stream",
     "text": [
      "okt: [('아버지', 'Noun'), ('가방', 'Noun'), ('에', 'Josa'), ('들어가신다', 'Verb'), ('.', 'Punctuation')]\n",
      "kkma: [('아버지', 'Noun'), ('가방', 'Noun'), ('에', 'Josa'), ('들어가신다', 'Verb'), ('.', 'Punctuation')]\n",
      "hannanum: [('아버지가방에들어가', 'N'), ('이', 'J'), ('시ㄴ다', 'E'), ('.', 'S')]\n"
     ]
    }
   ],
   "source": [
    "from konlpy.tag import Okt, Kkma, Hannanum\n",
    "\n",
    "sample_sentence = '아버지가방에들어가신다.'\n",
    "\n",
    "okt = Okt()\n",
    "print(f'okt: {okt.pos(sample_sentence)}')\n",
    "\n",
    "kkma = Kkma()\n",
    "print(f'kkma: {okt.pos(sample_sentence)}')\n",
    "\n",
    "hannanum = Hannanum()\n",
    "print(f'hannanum: {hannanum.pos(sample_sentence)}')"
   ]
  },
  {
   "cell_type": "code",
   "execution_count": 4,
   "id": "c08089bc-e120-4092-bdf9-9403ba743ccb",
   "metadata": {},
   "outputs": [
    {
     "name": "stdout",
     "output_type": "stream",
     "text": [
      "mecab: [('아버지', 'NNG'), ('가', 'JKS'), ('방', 'NNG'), ('에', 'JKB'), ('들어가', 'VV'), ('신다', 'EP+EF'), ('.', 'SF')]\n"
     ]
    }
   ],
   "source": [
    "from konlpy.tag import Mecab\n",
    "\n",
    "sample_sentence = '아버지가방에들어가신다.'\n",
    "\n",
    "mecab = Mecab()\n",
    "print(f'mecab: {mecab.pos(sample_sentence)}')"
   ]
  },
  {
   "cell_type": "code",
   "execution_count": 5,
   "id": "9b1dde2c-155c-4c97-bf3a-df47344136ba",
   "metadata": {},
   "outputs": [
    {
     "name": "stdout",
     "output_type": "stream",
     "text": [
      "lightgbm: 3.3.1\n",
      "xgboost: 1.5.1\n",
      "sklearn: 1.0.1\n"
     ]
    }
   ],
   "source": [
    "import sklearn\n",
    "import lightgbm\n",
    "import xgboost\n",
    "\n",
    "print(f'lightgbm: {lightgbm.__version__}\\nxgboost: {xgboost.__version__}\\nsklearn: {sklearn.__version__}')"
   ]
  },
  {
   "cell_type": "markdown",
   "id": "de0b88cc-e031-4129-b84e-939bf1290676",
   "metadata": {},
   "source": [
    "### xgboost 학습 시간 비교 GPU & CPU"
   ]
  },
  {
   "cell_type": "code",
   "execution_count": 6,
   "id": "a1d8c96e-e23a-4df1-813b-adf00a0f723c",
   "metadata": {},
   "outputs": [
    {
     "name": "stdout",
     "output_type": "stream",
     "text": [
      "xgb (cpu): 소요시간: 109.3758487701416 초\n",
      "xgb (gpu): 소요시간: 6.266696453094482 초\n"
     ]
    }
   ],
   "source": [
    "import time\n",
    "from sklearn.datasets import make_regression\n",
    "from xgboost import XGBRegressor\n",
    "\n",
    "def model_test(model_name, model):\n",
    "    x, y = make_regression(n_samples=100000, n_features=100)\n",
    "    \n",
    "    start_time = time.time()\n",
    "    model.fit(x, y)\n",
    "    end_time = time.time()\n",
    "    return f'{model_name}: 소요시간: {(end_time - start_time)} 초'\n",
    "\n",
    "xgb = XGBRegressor(n_estimators=1000, \n",
    "                   learning_rate=0.01, \n",
    "                   subsample=0.8, \n",
    "                   colsample_bytree=0.8,\n",
    "                   objective='reg:squarederror', \n",
    "                  )\n",
    "\n",
    "print(model_test('xgb (cpu)', xgb))\n",
    "\n",
    "xgb = XGBRegressor(n_estimators=1000, \n",
    "                   learning_rate=0.01, \n",
    "                   subsample=0.8, \n",
    "                   colsample_bytree=0.8,\n",
    "                   objective='reg:squarederror', \n",
    "                   tree_method='gpu_hist')\n",
    "\n",
    "print(model_test('xgb (gpu)', xgb))"
   ]
  },
  {
   "cell_type": "markdown",
   "id": "30366716-662f-4185-8357-d5811287eee3",
   "metadata": {},
   "source": []
  }
 ],
 "metadata": {
  "kernelspec": {
   "display_name": "Python 3",
   "language": "python",
   "name": "python3"
  },
  "language_info": {
   "codemirror_mode": {
    "name": "ipython",
    "version": 3
   },
   "file_extension": ".py",
   "mimetype": "text/x-python",
   "name": "python",
   "nbconvert_exporter": "python",
   "pygments_lexer": "ipython3",
   "version": "3.9.5"
  }
 },
 "nbformat": 4,
 "nbformat_minor": 5
}
